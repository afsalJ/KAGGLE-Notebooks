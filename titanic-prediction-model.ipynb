{
 "cells": [
  {
   "cell_type": "code",
   "execution_count": 1,
   "id": "f730d24e",
   "metadata": {
    "_cell_guid": "b1076dfc-b9ad-4769-8c92-a6c4dae69d19",
    "_uuid": "8f2839f25d086af736a60e9eeb907d3b93b6e0e5",
    "execution": {
     "iopub.execute_input": "2023-01-04T11:19:14.020249Z",
     "iopub.status.busy": "2023-01-04T11:19:14.019751Z",
     "iopub.status.idle": "2023-01-04T11:19:15.198694Z",
     "shell.execute_reply": "2023-01-04T11:19:15.197268Z"
    },
    "papermill": {
     "duration": 1.192072,
     "end_time": "2023-01-04T11:19:15.201765",
     "exception": false,
     "start_time": "2023-01-04T11:19:14.009693",
     "status": "completed"
    },
    "tags": []
   },
   "outputs": [
    {
     "name": "stdout",
     "output_type": "stream",
     "text": [
      "/kaggle/input/titanic/train.csv\n",
      "/kaggle/input/titanic/test.csv\n",
      "/kaggle/input/titanic/gender_submission.csv\n",
      "/kaggle/input/submission3csv/submission (1).csv\n",
      "/kaggle/input/titanic-analysis/__results__.html\n",
      "/kaggle/input/titanic-analysis/submission.csv\n",
      "/kaggle/input/titanic-analysis/__notebook__.ipynb\n",
      "/kaggle/input/titanic-analysis/__output__.json\n",
      "/kaggle/input/titanic-analysis/custom.css\n",
      "/kaggle/input/titanic-analysis/__results___files/__results___15_2.png\n"
     ]
    }
   ],
   "source": [
    "# This Python 3 environment comes with many helpful analytics libraries installed\n",
    "# It is defined by the kaggle/python Docker image: https://github.com/kaggle/docker-python\n",
    "# For example, here's several helpful packages to load\n",
    "\n",
    "import numpy as np # linear algebra\n",
    "import pandas as pd # data processing, CSV file I/O (e.g. pd.read_csv)\n",
    "import seaborn as sns\n",
    "import matplotlib.pyplot as plt \n",
    "\n",
    "# Input data files are available in the read-only \"../input/\" directory\n",
    "# For example, running this (by clicking run or pressing Shift+Enter) will list all files under the input directory\n",
    "\n",
    "import os\n",
    "for dirname, _, filenames in os.walk('/kaggle/input'):\n",
    "    for filename in filenames:\n",
    "        print(os.path.join(dirname, filename))\n",
    "\n",
    "# You can write up to 20GB to the current directory (/kaggle/working/) that gets preserved as output when you create a version using \"Save & Run All\" \n",
    "# You can also write temporary files to /kaggle/temp/, but they won't be saved outside of the current session"
   ]
  },
  {
   "cell_type": "markdown",
   "id": "db7e624a",
   "metadata": {
    "papermill": {
     "duration": 0.00672,
     "end_time": "2023-01-04T11:19:15.216069",
     "exception": false,
     "start_time": "2023-01-04T11:19:15.209349",
     "status": "completed"
    },
    "tags": []
   },
   "source": [
    "## Get the titanic dataset by using pandas\n",
    "And print the shape and info of the dataset"
   ]
  },
  {
   "cell_type": "code",
   "execution_count": 2,
   "id": "fbb9d52a",
   "metadata": {
    "execution": {
     "iopub.execute_input": "2023-01-04T11:19:15.231848Z",
     "iopub.status.busy": "2023-01-04T11:19:15.231454Z",
     "iopub.status.idle": "2023-01-04T11:19:15.274666Z",
     "shell.execute_reply": "2023-01-04T11:19:15.273047Z"
    },
    "papermill": {
     "duration": 0.054295,
     "end_time": "2023-01-04T11:19:15.277281",
     "exception": false,
     "start_time": "2023-01-04T11:19:15.222986",
     "status": "completed"
    },
    "tags": []
   },
   "outputs": [
    {
     "name": "stdout",
     "output_type": "stream",
     "text": [
      "<class 'pandas.core.frame.DataFrame'>\n",
      "RangeIndex: 891 entries, 0 to 890\n",
      "Data columns (total 12 columns):\n",
      " #   Column       Non-Null Count  Dtype  \n",
      "---  ------       --------------  -----  \n",
      " 0   PassengerId  891 non-null    int64  \n",
      " 1   Survived     891 non-null    int64  \n",
      " 2   Pclass       891 non-null    int64  \n",
      " 3   Name         891 non-null    object \n",
      " 4   Sex          891 non-null    object \n",
      " 5   Age          714 non-null    float64\n",
      " 6   SibSp        891 non-null    int64  \n",
      " 7   Parch        891 non-null    int64  \n",
      " 8   Ticket       891 non-null    object \n",
      " 9   Fare         891 non-null    float64\n",
      " 10  Cabin        204 non-null    object \n",
      " 11  Embarked     889 non-null    object \n",
      "dtypes: float64(2), int64(5), object(5)\n",
      "memory usage: 83.7+ KB\n",
      "(891, 12) \n",
      " None\n"
     ]
    }
   ],
   "source": [
    "titanic_data=pd.read_csv('/kaggle/input/titanic/train.csv')\n",
    "print(titanic_data.shape,\"\\n\",titanic_data.info())"
   ]
  },
  {
   "cell_type": "markdown",
   "id": "415edbd3",
   "metadata": {
    "papermill": {
     "duration": 0.006697,
     "end_time": "2023-01-04T11:19:15.291235",
     "exception": false,
     "start_time": "2023-01-04T11:19:15.284538",
     "status": "completed"
    },
    "tags": []
   },
   "source": [
    "We got that\n",
    "* It has 891 rows and 12 columns.\n",
    "## Drop the columns which is not needed to find the survived column.."
   ]
  },
  {
   "cell_type": "code",
   "execution_count": 3,
   "id": "ac311704",
   "metadata": {
    "execution": {
     "iopub.execute_input": "2023-01-04T11:19:15.309089Z",
     "iopub.status.busy": "2023-01-04T11:19:15.308360Z",
     "iopub.status.idle": "2023-01-04T11:19:15.326501Z",
     "shell.execute_reply": "2023-01-04T11:19:15.325025Z"
    },
    "papermill": {
     "duration": 0.030359,
     "end_time": "2023-01-04T11:19:15.329749",
     "exception": false,
     "start_time": "2023-01-04T11:19:15.299390",
     "status": "completed"
    },
    "tags": []
   },
   "outputs": [
    {
     "name": "stdout",
     "output_type": "stream",
     "text": [
      "<class 'pandas.core.frame.DataFrame'>\n",
      "RangeIndex: 891 entries, 0 to 890\n",
      "Data columns (total 6 columns):\n",
      " #   Column    Non-Null Count  Dtype  \n",
      "---  ------    --------------  -----  \n",
      " 0   Survived  891 non-null    int64  \n",
      " 1   Pclass    891 non-null    int64  \n",
      " 2   Sex       891 non-null    object \n",
      " 3   Age       714 non-null    float64\n",
      " 4   SibSp     891 non-null    int64  \n",
      " 5   Parch     891 non-null    int64  \n",
      "dtypes: float64(1), int64(4), object(1)\n",
      "memory usage: 41.9+ KB\n",
      "None\n"
     ]
    }
   ],
   "source": [
    "titanic_data.drop(columns=['PassengerId','Name','Ticket','Fare','Cabin','Embarked'],inplace=True)\n",
    "print(titanic_data.info())"
   ]
  },
  {
   "cell_type": "markdown",
   "id": "54c72987",
   "metadata": {
    "papermill": {
     "duration": 0.007547,
     "end_time": "2023-01-04T11:19:15.345934",
     "exception": false,
     "start_time": "2023-01-04T11:19:15.338387",
     "status": "completed"
    },
    "tags": []
   },
   "source": [
    "## Observation from the above info()\n",
    "* Sex is the only object data so we need to change the data type\n",
    "* We can get that Age has some null values\n",
    "* So fill the null values by using median of age"
   ]
  },
  {
   "cell_type": "code",
   "execution_count": 4,
   "id": "75878c6c",
   "metadata": {
    "execution": {
     "iopub.execute_input": "2023-01-04T11:19:15.366985Z",
     "iopub.status.busy": "2023-01-04T11:19:15.366521Z",
     "iopub.status.idle": "2023-01-04T11:19:15.384305Z",
     "shell.execute_reply": "2023-01-04T11:19:15.382904Z"
    },
    "papermill": {
     "duration": 0.032154,
     "end_time": "2023-01-04T11:19:15.387626",
     "exception": false,
     "start_time": "2023-01-04T11:19:15.355472",
     "status": "completed"
    },
    "tags": []
   },
   "outputs": [
    {
     "name": "stdout",
     "output_type": "stream",
     "text": [
      "<class 'pandas.core.frame.DataFrame'>\n",
      "RangeIndex: 891 entries, 0 to 890\n",
      "Data columns (total 6 columns):\n",
      " #   Column    Non-Null Count  Dtype  \n",
      "---  ------    --------------  -----  \n",
      " 0   Survived  891 non-null    int64  \n",
      " 1   Pclass    891 non-null    int64  \n",
      " 2   Sex       891 non-null    int8   \n",
      " 3   Age       714 non-null    float64\n",
      " 4   SibSp     891 non-null    int64  \n",
      " 5   Parch     891 non-null    int64  \n",
      "dtypes: float64(1), int64(4), int8(1)\n",
      "memory usage: 35.8 KB\n",
      "None\n"
     ]
    }
   ],
   "source": [
    "titanic_data['Sex']=titanic_data['Sex'].astype('category')\n",
    "titanic_data['Sex']=titanic_data['Sex'].cat.codes\n",
    "print(titanic_data.info())"
   ]
  },
  {
   "cell_type": "markdown",
   "id": "3d2e3e0a",
   "metadata": {
    "papermill": {
     "duration": 0.006909,
     "end_time": "2023-01-04T11:19:15.402278",
     "exception": false,
     "start_time": "2023-01-04T11:19:15.395369",
     "status": "completed"
    },
    "tags": []
   },
   "source": [
    "## sex has been changed to integer"
   ]
  },
  {
   "cell_type": "code",
   "execution_count": 5,
   "id": "9196deb6",
   "metadata": {
    "execution": {
     "iopub.execute_input": "2023-01-04T11:19:15.419022Z",
     "iopub.status.busy": "2023-01-04T11:19:15.418096Z",
     "iopub.status.idle": "2023-01-04T11:19:15.437879Z",
     "shell.execute_reply": "2023-01-04T11:19:15.436257Z"
    },
    "papermill": {
     "duration": 0.031943,
     "end_time": "2023-01-04T11:19:15.441448",
     "exception": false,
     "start_time": "2023-01-04T11:19:15.409505",
     "status": "completed"
    },
    "tags": []
   },
   "outputs": [
    {
     "name": "stdout",
     "output_type": "stream",
     "text": [
      "<class 'pandas.core.frame.DataFrame'>\n",
      "Int64Index: 507 entries, 0 to 889\n",
      "Data columns (total 6 columns):\n",
      " #   Column    Non-Null Count  Dtype\n",
      "---  ------    --------------  -----\n",
      " 0   Survived  507 non-null    int64\n",
      " 1   Pclass    507 non-null    int64\n",
      " 2   Sex       507 non-null    int8 \n",
      " 3   Age       507 non-null    int64\n",
      " 4   SibSp     507 non-null    int64\n",
      " 5   Parch     507 non-null    int64\n",
      "dtypes: int64(5), int8(1)\n",
      "memory usage: 24.3 KB\n",
      "None\n"
     ]
    }
   ],
   "source": [
    "titanic_data['Age'].fillna(titanic_data['Age'].median(),inplace=True)\n",
    "titanic_data['Age']=titanic_data['Age'].astype(int)\n",
    "titanic_data.drop_duplicates(inplace=True)\n",
    "print(titanic_data.info())"
   ]
  },
  {
   "cell_type": "code",
   "execution_count": 6,
   "id": "80934868",
   "metadata": {
    "execution": {
     "iopub.execute_input": "2023-01-04T11:19:15.458558Z",
     "iopub.status.busy": "2023-01-04T11:19:15.457843Z",
     "iopub.status.idle": "2023-01-04T11:19:15.470555Z",
     "shell.execute_reply": "2023-01-04T11:19:15.469410Z"
    },
    "papermill": {
     "duration": 0.02377,
     "end_time": "2023-01-04T11:19:15.472899",
     "exception": false,
     "start_time": "2023-01-04T11:19:15.449129",
     "status": "completed"
    },
    "tags": []
   },
   "outputs": [
    {
     "data": {
      "text/plain": [
       "Survived    0.067298\n",
       "Pclass     -0.287245\n",
       "Sex        -0.162749\n",
       "Age         0.284607\n",
       "SibSp       2.563225\n",
       "Parch       2.008416\n",
       "dtype: float64"
      ]
     },
     "execution_count": 6,
     "metadata": {},
     "output_type": "execute_result"
    }
   ],
   "source": [
    "titanic_data.skew()"
   ]
  },
  {
   "cell_type": "code",
   "execution_count": 7,
   "id": "5d03de63",
   "metadata": {
    "execution": {
     "iopub.execute_input": "2023-01-04T11:19:15.490074Z",
     "iopub.status.busy": "2023-01-04T11:19:15.489281Z",
     "iopub.status.idle": "2023-01-04T11:19:15.495937Z",
     "shell.execute_reply": "2023-01-04T11:19:15.495052Z"
    },
    "papermill": {
     "duration": 0.017861,
     "end_time": "2023-01-04T11:19:15.498278",
     "exception": false,
     "start_time": "2023-01-04T11:19:15.480417",
     "status": "completed"
    },
    "tags": []
   },
   "outputs": [],
   "source": [
    "titanic_data.SibSp=np.sqrt(titanic_data.SibSp)\n",
    "titanic_data.Parch=np.sqrt(titanic_data.Parch)"
   ]
  },
  {
   "cell_type": "code",
   "execution_count": 8,
   "id": "d7474438",
   "metadata": {
    "execution": {
     "iopub.execute_input": "2023-01-04T11:19:15.515250Z",
     "iopub.status.busy": "2023-01-04T11:19:15.514470Z",
     "iopub.status.idle": "2023-01-04T11:19:15.523928Z",
     "shell.execute_reply": "2023-01-04T11:19:15.522836Z"
    },
    "papermill": {
     "duration": 0.021184,
     "end_time": "2023-01-04T11:19:15.526858",
     "exception": false,
     "start_time": "2023-01-04T11:19:15.505674",
     "status": "completed"
    },
    "tags": []
   },
   "outputs": [],
   "source": [
    "titanic_data.Parch=titanic_data.Parch.astype(int)\n",
    "titanic_data.SibSp=titanic_data.SibSp.astype(int)\n",
    "titanic_data.drop_duplicates(inplace=True)"
   ]
  },
  {
   "cell_type": "code",
   "execution_count": 9,
   "id": "a716ff1c",
   "metadata": {
    "execution": {
     "iopub.execute_input": "2023-01-04T11:19:15.544043Z",
     "iopub.status.busy": "2023-01-04T11:19:15.543371Z",
     "iopub.status.idle": "2023-01-04T11:19:16.599876Z",
     "shell.execute_reply": "2023-01-04T11:19:16.598484Z"
    },
    "papermill": {
     "duration": 1.067987,
     "end_time": "2023-01-04T11:19:16.602516",
     "exception": false,
     "start_time": "2023-01-04T11:19:15.534529",
     "status": "completed"
    },
    "tags": []
   },
   "outputs": [
    {
     "name": "stdout",
     "output_type": "stream",
     "text": [
      "Survived    0.045893\n",
      "Pclass     -0.233576\n",
      "Sex        -0.188523\n",
      "Age         0.245252\n",
      "SibSp       0.733809\n",
      "Parch       0.897854\n",
      "dtype: float64\n",
      "<class 'pandas.core.frame.DataFrame'>\n",
      "Int64Index: 481 entries, 0 to 889\n",
      "Data columns (total 6 columns):\n",
      " #   Column    Non-Null Count  Dtype\n",
      "---  ------    --------------  -----\n",
      " 0   Survived  481 non-null    int64\n",
      " 1   Pclass    481 non-null    int64\n",
      " 2   Sex       481 non-null    int8 \n",
      " 3   Age       481 non-null    int64\n",
      " 4   SibSp     481 non-null    int64\n",
      " 5   Parch     481 non-null    int64\n",
      "dtypes: int64(5), int8(1)\n",
      "memory usage: 23.0 KB\n",
      "None\n"
     ]
    },
    {
     "data": {
      "text/plain": [
       "<Figure size 432x288 with 0 Axes>"
      ]
     },
     "metadata": {},
     "output_type": "display_data"
    },
    {
     "data": {
      "image/png": "[encoded data removed]",
      "text/plain": [
       "<Figure size 360x360 with 1 Axes>"
      ]
     },
     "metadata": {
      "needs_background": "light"
     },
     "output_type": "display_data"
    },
    {
     "data": {
      "image/png": "[encoded data removed]",
      "text/plain": [
       "<Figure size 360x360 with 1 Axes>"
      ]
     },
     "metadata": {
      "needs_background": "light"
     },
     "output_type": "display_data"
    },
    {
     "data": {
      "text/plain": [
       "<AxesSubplot:>"
      ]
     },
     "execution_count": 9,
     "metadata": {},
     "output_type": "execute_result"
    },
    {
     "data": {
      "image/png": "[encoded data removed]",
      "text/plain": [
       "<Figure size 432x288 with 2 Axes>"
      ]
     },
     "metadata": {
      "needs_background": "light"
     },
     "output_type": "display_data"
    }
   ],
   "source": [
    "print(titanic_data.skew())\n",
    "print(titanic_data.info())\n",
    "plt.figure()\n",
    "sns.displot(titanic_data['SibSp'])\n",
    "plt.show()\n",
    "sns.displot(titanic_data['Parch'])\n",
    "plt.show()\n",
    "sns.heatmap(titanic_data.corr(),annot=True)"
   ]
  },
  {
   "cell_type": "code",
   "execution_count": 10,
   "id": "9023dd40",
   "metadata": {
    "execution": {
     "iopub.execute_input": "2023-01-04T11:19:16.621595Z",
     "iopub.status.busy": "2023-01-04T11:19:16.621134Z",
     "iopub.status.idle": "2023-01-04T11:19:16.643213Z",
     "shell.execute_reply": "2023-01-04T11:19:16.641732Z"
    },
    "papermill": {
     "duration": 0.034469,
     "end_time": "2023-01-04T11:19:16.645670",
     "exception": false,
     "start_time": "2023-01-04T11:19:16.611201",
     "status": "completed"
    },
    "tags": []
   },
   "outputs": [
    {
     "name": "stdout",
     "output_type": "stream",
     "text": [
      "<class 'pandas.core.frame.DataFrame'>\n",
      "Int64Index: 481 entries, 0 to 889\n",
      "Data columns (total 5 columns):\n",
      " #   Column  Non-Null Count  Dtype\n",
      "---  ------  --------------  -----\n",
      " 0   Pclass  481 non-null    int64\n",
      " 1   Sex     481 non-null    int8 \n",
      " 2   Age     481 non-null    int64\n",
      " 3   SibSp   481 non-null    int64\n",
      " 4   Parch   481 non-null    int64\n",
      "dtypes: int64(4), int8(1)\n",
      "memory usage: 19.3 KB\n",
      "<class 'pandas.core.frame.DataFrame'>\n",
      "Int64Index: 481 entries, 0 to 889\n",
      "Data columns (total 1 columns):\n",
      " #   Column    Non-Null Count  Dtype\n",
      "---  ------    --------------  -----\n",
      " 0   Survived  481 non-null    int64\n",
      "dtypes: int64(1)\n",
      "memory usage: 7.5 KB\n",
      "None None\n"
     ]
    }
   ],
   "source": [
    "x=titanic_data[['Pclass','Sex','Age','SibSp','Parch']]\n",
    "y=pd.DataFrame(titanic_data['Survived'],columns=['Survived'])\n",
    "print(x.info(),y.info())"
   ]
  },
  {
   "cell_type": "markdown",
   "id": "647d1ad8",
   "metadata": {
    "papermill": {
     "duration": 0.008983,
     "end_time": "2023-01-04T11:19:16.663582",
     "exception": false,
     "start_time": "2023-01-04T11:19:16.654599",
     "status": "completed"
    },
    "tags": []
   },
   "source": [
    "## Importing the required models"
   ]
  },
  {
   "cell_type": "code",
   "execution_count": 11,
   "id": "2cf9fdd3",
   "metadata": {
    "execution": {
     "iopub.execute_input": "2023-01-04T11:19:16.684158Z",
     "iopub.status.busy": "2023-01-04T11:19:16.682954Z",
     "iopub.status.idle": "2023-01-04T11:19:16.963729Z",
     "shell.execute_reply": "2023-01-04T11:19:16.962564Z"
    },
    "papermill": {
     "duration": 0.294022,
     "end_time": "2023-01-04T11:19:16.966552",
     "exception": false,
     "start_time": "2023-01-04T11:19:16.672530",
     "status": "completed"
    },
    "tags": []
   },
   "outputs": [],
   "source": [
    "from sklearn.model_selection import train_test_split as tts\n",
    "from sklearn.linear_model import LogisticRegression\n",
    "from sklearn.metrics import confusion_matrix,accuracy_score"
   ]
  },
  {
   "cell_type": "code",
   "execution_count": 12,
   "id": "2a4a98e1",
   "metadata": {
    "execution": {
     "iopub.execute_input": "2023-01-04T11:19:16.985971Z",
     "iopub.status.busy": "2023-01-04T11:19:16.985527Z",
     "iopub.status.idle": "2023-01-04T11:19:17.023398Z",
     "shell.execute_reply": "2023-01-04T11:19:17.022039Z"
    },
    "papermill": {
     "duration": 0.050615,
     "end_time": "2023-01-04T11:19:17.026014",
     "exception": false,
     "start_time": "2023-01-04T11:19:16.975399",
     "status": "completed"
    },
    "tags": []
   },
   "outputs": [
    {
     "name": "stderr",
     "output_type": "stream",
     "text": [
      "/opt/conda/lib/python3.7/site-packages/sklearn/utils/validation.py:993: DataConversionWarning: A column-vector y was passed when a 1d array was expected. Please change the shape of y to (n_samples, ), for example using ravel().\n",
      "  y = column_or_1d(y, warn=True)\n"
     ]
    },
    {
     "data": {
      "text/plain": [
       "LogisticRegression()"
      ]
     },
     "execution_count": 12,
     "metadata": {},
     "output_type": "execute_result"
    }
   ],
   "source": [
    "x_train,x_test,y_train,y_test=tts(x,y,train_size=0.7)\n",
    "predictor=LogisticRegression()\n",
    "predictor.fit(x_train,y_train)"
   ]
  },
  {
   "cell_type": "code",
   "execution_count": 13,
   "id": "b79fa913",
   "metadata": {
    "execution": {
     "iopub.execute_input": "2023-01-04T11:19:17.047651Z",
     "iopub.status.busy": "2023-01-04T11:19:17.046428Z",
     "iopub.status.idle": "2023-01-04T11:19:17.057793Z",
     "shell.execute_reply": "2023-01-04T11:19:17.056285Z"
    },
    "papermill": {
     "duration": 0.025788,
     "end_time": "2023-01-04T11:19:17.060874",
     "exception": false,
     "start_time": "2023-01-04T11:19:17.035086",
     "status": "completed"
    },
    "tags": []
   },
   "outputs": [
    {
     "name": "stdout",
     "output_type": "stream",
     "text": [
      "0.7310344827586207\n"
     ]
    }
   ],
   "source": [
    "prediction=predictor.predict(x_test)\n",
    "print(accuracy_score(prediction,y_test))"
   ]
  },
  {
   "cell_type": "code",
   "execution_count": 14,
   "id": "f4bf1928",
   "metadata": {
    "execution": {
     "iopub.execute_input": "2023-01-04T11:19:17.087748Z",
     "iopub.status.busy": "2023-01-04T11:19:17.087221Z",
     "iopub.status.idle": "2023-01-04T11:19:17.096719Z",
     "shell.execute_reply": "2023-01-04T11:19:17.095385Z"
    },
    "papermill": {
     "duration": 0.030549,
     "end_time": "2023-01-04T11:19:17.101999",
     "exception": false,
     "start_time": "2023-01-04T11:19:17.071450",
     "status": "completed"
    },
    "tags": []
   },
   "outputs": [
    {
     "name": "stdout",
     "output_type": "stream",
     "text": [
      "[[54 15]\n",
      " [24 52]]\n"
     ]
    }
   ],
   "source": [
    "print(confusion_matrix(prediction,y_test))"
   ]
  },
  {
   "cell_type": "code",
   "execution_count": 15,
   "id": "24c954e6",
   "metadata": {
    "execution": {
     "iopub.execute_input": "2023-01-04T11:19:17.126110Z",
     "iopub.status.busy": "2023-01-04T11:19:17.125587Z",
     "iopub.status.idle": "2023-01-04T11:19:17.148853Z",
     "shell.execute_reply": "2023-01-04T11:19:17.147275Z"
    },
    "papermill": {
     "duration": 0.037383,
     "end_time": "2023-01-04T11:19:17.151561",
     "exception": false,
     "start_time": "2023-01-04T11:19:17.114178",
     "status": "completed"
    },
    "tags": []
   },
   "outputs": [
    {
     "name": "stdout",
     "output_type": "stream",
     "text": [
      "<class 'pandas.core.frame.DataFrame'>\n",
      "RangeIndex: 418 entries, 0 to 417\n",
      "Data columns (total 11 columns):\n",
      " #   Column       Non-Null Count  Dtype  \n",
      "---  ------       --------------  -----  \n",
      " 0   PassengerId  418 non-null    int64  \n",
      " 1   Pclass       418 non-null    int64  \n",
      " 2   Name         418 non-null    object \n",
      " 3   Sex          418 non-null    object \n",
      " 4   Age          332 non-null    float64\n",
      " 5   SibSp        418 non-null    int64  \n",
      " 6   Parch        418 non-null    int64  \n",
      " 7   Ticket       418 non-null    object \n",
      " 8   Fare         417 non-null    float64\n",
      " 9   Cabin        91 non-null     object \n",
      " 10  Embarked     418 non-null    object \n",
      "dtypes: float64(2), int64(4), object(5)\n",
      "memory usage: 36.0+ KB\n",
      "None\n"
     ]
    }
   ],
   "source": [
    "test_data=pd.read_csv('/kaggle/input/titanic/test.csv')\n",
    "print(test_data.info())"
   ]
  },
  {
   "cell_type": "code",
   "execution_count": 16,
   "id": "febf22b7",
   "metadata": {
    "execution": {
     "iopub.execute_input": "2023-01-04T11:19:17.171817Z",
     "iopub.status.busy": "2023-01-04T11:19:17.171414Z",
     "iopub.status.idle": "2023-01-04T11:19:17.186358Z",
     "shell.execute_reply": "2023-01-04T11:19:17.185092Z"
    },
    "papermill": {
     "duration": 0.028441,
     "end_time": "2023-01-04T11:19:17.189454",
     "exception": false,
     "start_time": "2023-01-04T11:19:17.161013",
     "status": "completed"
    },
    "tags": []
   },
   "outputs": [
    {
     "name": "stdout",
     "output_type": "stream",
     "text": [
      "<class 'pandas.core.frame.DataFrame'>\n",
      "RangeIndex: 418 entries, 0 to 417\n",
      "Data columns (total 5 columns):\n",
      " #   Column  Non-Null Count  Dtype  \n",
      "---  ------  --------------  -----  \n",
      " 0   Pclass  418 non-null    int64  \n",
      " 1   Sex     418 non-null    object \n",
      " 2   Age     332 non-null    float64\n",
      " 3   SibSp   418 non-null    int64  \n",
      " 4   Parch   418 non-null    int64  \n",
      "dtypes: float64(1), int64(3), object(1)\n",
      "memory usage: 16.5+ KB\n",
      "None\n"
     ]
    }
   ],
   "source": [
    "test_data.drop(columns=['PassengerId','Name','Ticket','Fare','Cabin','Embarked'],inplace=True)\n",
    "print(test_data.info())"
   ]
  },
  {
   "cell_type": "code",
   "execution_count": 17,
   "id": "01bd6933",
   "metadata": {
    "execution": {
     "iopub.execute_input": "2023-01-04T11:19:17.210239Z",
     "iopub.status.busy": "2023-01-04T11:19:17.209809Z",
     "iopub.status.idle": "2023-01-04T11:19:17.225801Z",
     "shell.execute_reply": "2023-01-04T11:19:17.224167Z"
    },
    "papermill": {
     "duration": 0.029368,
     "end_time": "2023-01-04T11:19:17.228259",
     "exception": false,
     "start_time": "2023-01-04T11:19:17.198891",
     "status": "completed"
    },
    "tags": []
   },
   "outputs": [
    {
     "name": "stdout",
     "output_type": "stream",
     "text": [
      "<class 'pandas.core.frame.DataFrame'>\n",
      "RangeIndex: 418 entries, 0 to 417\n",
      "Data columns (total 5 columns):\n",
      " #   Column  Non-Null Count  Dtype \n",
      "---  ------  --------------  ----- \n",
      " 0   Pclass  418 non-null    int64 \n",
      " 1   Sex     418 non-null    object\n",
      " 2   Age     418 non-null    int64 \n",
      " 3   SibSp   418 non-null    int64 \n",
      " 4   Parch   418 non-null    int64 \n",
      "dtypes: int64(4), object(1)\n",
      "memory usage: 16.5+ KB\n",
      "None\n"
     ]
    }
   ],
   "source": [
    "test_data.Age.fillna(test_data.Age.median(),inplace=True)\n",
    "test_data.Age=test_data.Age.astype(int)\n",
    "print(test_data.info())"
   ]
  },
  {
   "cell_type": "code",
   "execution_count": 18,
   "id": "5305aa6c",
   "metadata": {
    "execution": {
     "iopub.execute_input": "2023-01-04T11:19:17.249497Z",
     "iopub.status.busy": "2023-01-04T11:19:17.248253Z",
     "iopub.status.idle": "2023-01-04T11:19:17.264282Z",
     "shell.execute_reply": "2023-01-04T11:19:17.262758Z"
    },
    "papermill": {
     "duration": 0.029425,
     "end_time": "2023-01-04T11:19:17.267017",
     "exception": false,
     "start_time": "2023-01-04T11:19:17.237592",
     "status": "completed"
    },
    "tags": []
   },
   "outputs": [
    {
     "name": "stdout",
     "output_type": "stream",
     "text": [
      "<class 'pandas.core.frame.DataFrame'>\n",
      "RangeIndex: 418 entries, 0 to 417\n",
      "Data columns (total 5 columns):\n",
      " #   Column  Non-Null Count  Dtype\n",
      "---  ------  --------------  -----\n",
      " 0   Pclass  418 non-null    int64\n",
      " 1   Sex     418 non-null    int8 \n",
      " 2   Age     418 non-null    int64\n",
      " 3   SibSp   418 non-null    int64\n",
      " 4   Parch   418 non-null    int64\n",
      "dtypes: int64(4), int8(1)\n",
      "memory usage: 13.6 KB\n",
      "None\n"
     ]
    }
   ],
   "source": [
    "test_data.Sex=test_data.Sex.astype('category')\n",
    "test_data.Sex=test_data.Sex.cat.codes\n",
    "print(test_data.info())"
   ]
  },
  {
   "cell_type": "code",
   "execution_count": 19,
   "id": "083ceb4e",
   "metadata": {
    "execution": {
     "iopub.execute_input": "2023-01-04T11:19:17.287858Z",
     "iopub.status.busy": "2023-01-04T11:19:17.287442Z",
     "iopub.status.idle": "2023-01-04T11:19:17.295683Z",
     "shell.execute_reply": "2023-01-04T11:19:17.294441Z"
    },
    "papermill": {
     "duration": 0.021294,
     "end_time": "2023-01-04T11:19:17.298048",
     "exception": false,
     "start_time": "2023-01-04T11:19:17.276754",
     "status": "completed"
    },
    "tags": []
   },
   "outputs": [
    {
     "name": "stdout",
     "output_type": "stream",
     "text": [
      "Pclass   -0.534170\n",
      "Sex      -0.568991\n",
      "Age       0.651015\n",
      "SibSp     4.168337\n",
      "Parch     4.654462\n",
      "dtype: float64\n"
     ]
    }
   ],
   "source": [
    "print(test_data.skew())"
   ]
  },
  {
   "cell_type": "code",
   "execution_count": 20,
   "id": "6926eb6f",
   "metadata": {
    "execution": {
     "iopub.execute_input": "2023-01-04T11:19:17.320226Z",
     "iopub.status.busy": "2023-01-04T11:19:17.318886Z",
     "iopub.status.idle": "2023-01-04T11:19:17.338994Z",
     "shell.execute_reply": "2023-01-04T11:19:17.337238Z"
    },
    "papermill": {
     "duration": 0.034104,
     "end_time": "2023-01-04T11:19:17.341865",
     "exception": false,
     "start_time": "2023-01-04T11:19:17.307761",
     "status": "completed"
    },
    "tags": []
   },
   "outputs": [
    {
     "name": "stdout",
     "output_type": "stream",
     "text": [
      "<class 'pandas.core.frame.DataFrame'>\n",
      "RangeIndex: 418 entries, 0 to 417\n",
      "Data columns (total 5 columns):\n",
      " #   Column  Non-Null Count  Dtype\n",
      "---  ------  --------------  -----\n",
      " 0   Pclass  418 non-null    int64\n",
      " 1   Sex     418 non-null    int8 \n",
      " 2   Age     418 non-null    int64\n",
      " 3   SibSp   418 non-null    int64\n",
      " 4   Parch   418 non-null    int64\n",
      "dtypes: int64(4), int8(1)\n",
      "memory usage: 13.6 KB\n",
      "None\n",
      "Pclass   -0.534170\n",
      "Sex      -0.568991\n",
      "Age       0.651015\n",
      "SibSp     1.060004\n",
      "Parch     0.759914\n",
      "dtype: float64\n"
     ]
    }
   ],
   "source": [
    "test_data.SibSp=np.sqrt(test_data.SibSp)\n",
    "test_data.Parch=np.sqrt(test_data.SibSp)\n",
    "test_data.Parch=test_data.Parch.astype(int)\n",
    "test_data.SibSp=test_data.SibSp.astype(int)\n",
    "print(test_data.info())\n",
    "print(test_data.skew())"
   ]
  },
  {
   "cell_type": "code",
   "execution_count": 21,
   "id": "21cb118e",
   "metadata": {
    "execution": {
     "iopub.execute_input": "2023-01-04T11:19:17.364153Z",
     "iopub.status.busy": "2023-01-04T11:19:17.363059Z",
     "iopub.status.idle": "2023-01-04T11:19:17.376234Z",
     "shell.execute_reply": "2023-01-04T11:19:17.374860Z"
    },
    "papermill": {
     "duration": 0.027568,
     "end_time": "2023-01-04T11:19:17.379471",
     "exception": false,
     "start_time": "2023-01-04T11:19:17.351903",
     "status": "completed"
    },
    "tags": []
   },
   "outputs": [
    {
     "name": "stdout",
     "output_type": "stream",
     "text": [
      "   Survived\n",
      "0         0\n",
      "1         0\n",
      "2         0\n",
      "3         0\n",
      "4         1\n",
      "5         0\n",
      "6         1\n",
      "7         0\n",
      "8         1\n",
      "9         0\n"
     ]
    }
   ],
   "source": [
    "final_result=predictor.predict(test_data)\n",
    "final_result=pd.DataFrame(final_result,columns=['Survived'])\n",
    "print(final_result.head(10))"
   ]
  },
  {
   "cell_type": "code",
   "execution_count": 22,
   "id": "0e53fd4f",
   "metadata": {
    "execution": {
     "iopub.execute_input": "2023-01-04T11:19:17.401920Z",
     "iopub.status.busy": "2023-01-04T11:19:17.401500Z",
     "iopub.status.idle": "2023-01-04T11:19:17.425524Z",
     "shell.execute_reply": "2023-01-04T11:19:17.424241Z"
    },
    "papermill": {
     "duration": 0.038552,
     "end_time": "2023-01-04T11:19:17.428431",
     "exception": false,
     "start_time": "2023-01-04T11:19:17.389879",
     "status": "completed"
    },
    "tags": []
   },
   "outputs": [
    {
     "name": "stdout",
     "output_type": "stream",
     "text": [
      "PassengerId    0\n",
      "dtype: int64\n",
      "(418, 1) (418, 1)\n",
      "<class 'pandas.core.frame.DataFrame'>\n",
      "RangeIndex: 418 entries, 0 to 417\n",
      "Data columns (total 2 columns):\n",
      " #   Column       Non-Null Count  Dtype\n",
      "---  ------       --------------  -----\n",
      " 0   PassengerId  418 non-null    int64\n",
      " 1   Survived     418 non-null    int64\n",
      "dtypes: int64(2)\n",
      "memory usage: 6.7 KB\n",
      "None\n",
      "     PassengerId  Survived\n",
      "0            892         0\n",
      "1            893         0\n",
      "2            894         0\n",
      "3            895         0\n",
      "4            896         1\n",
      "..           ...       ...\n",
      "413         1305         0\n",
      "414         1306         1\n",
      "415         1307         0\n",
      "416         1308         0\n",
      "417         1309         0\n",
      "\n",
      "[418 rows x 2 columns]\n"
     ]
    }
   ],
   "source": [
    "final_submission=pd.read_csv('/kaggle/input/titanic/test.csv')\n",
    "final_submission=pd.DataFrame(final_submission.PassengerId,columns=['PassengerId'])\n",
    "print(final_submission.isnull().sum())\n",
    "print(final_submission.shape,final_result.shape)\n",
    "final_submission=pd.concat([final_submission,final_result],axis='columns')\n",
    "print(final_submission.info())\n",
    "print(final_submission)"
   ]
  },
  {
   "cell_type": "code",
   "execution_count": 23,
   "id": "1a5a00e3",
   "metadata": {
    "execution": {
     "iopub.execute_input": "2023-01-04T11:19:17.450992Z",
     "iopub.status.busy": "2023-01-04T11:19:17.450602Z",
     "iopub.status.idle": "2023-01-04T11:19:17.459412Z",
     "shell.execute_reply": "2023-01-04T11:19:17.458143Z"
    },
    "papermill": {
     "duration": 0.0231,
     "end_time": "2023-01-04T11:19:17.462087",
     "exception": false,
     "start_time": "2023-01-04T11:19:17.438987",
     "status": "completed"
    },
    "tags": []
   },
   "outputs": [],
   "source": [
    "final_submission.to_csv('submission.csv',index=False)"
   ]
  },
  {
   "cell_type": "code",
   "execution_count": null,
   "id": "750effa4",
   "metadata": {
    "papermill": {
     "duration": 0.009625,
     "end_time": "2023-01-04T11:19:17.481571",
     "exception": false,
     "start_time": "2023-01-04T11:19:17.471946",
     "status": "completed"
    },
    "tags": []
   },
   "outputs": [],
   "source": []
  }
 ],
 "metadata": {
  "kernelspec": {
   "display_name": "Python 3",
   "language": "python",
   "name": "python3"
  },
  "language_info": {
   "codemirror_mode": {
    "name": "ipython",
    "version": 3
   },
   "file_extension": ".py",
   "mimetype": "text/x-python",
   "name": "python",
   "nbconvert_exporter": "python",
   "pygments_lexer": "ipython3",
   "version": "3.7.12"
  },
  "papermill": {
   "default_parameters": {},
   "duration": 13.016576,
   "end_time": "2023-01-04T11:19:18.213733",
   "environment_variables": {},
   "exception": null,
   "input_path": "__notebook__.ipynb",
   "output_path": "__notebook__.ipynb",
   "parameters": {},
   "start_time": "2023-01-04T11:19:05.197157",
   "version": "2.3.4"
  }
 },
 "nbformat": 4,
 "nbformat_minor": 5
}
